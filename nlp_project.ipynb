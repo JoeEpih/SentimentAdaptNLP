{
 "cells": [
  {
   "cell_type": "code",
   "execution_count": 1,
   "id": "83d09066-6141-4686-8843-019e211d9c1d",
   "metadata": {},
   "outputs": [],
   "source": [
    "import json\n",
    "import re\n",
    "import pandas as pd\n",
    "import seaborn as sns\n",
    "import matplotlib.pyplot as plt\n",
    "from warnings import filterwarnings\n",
    "\n",
    "filterwarnings('ignore')"
   ]
  },
  {
   "cell_type": "markdown",
   "id": "6f5fd155-3c1c-480c-9d9b-de6849fc7d2b",
   "metadata": {},
   "source": [
    "## Load Data and Select Important Columns"
   ]
  },
  {
   "cell_type": "code",
   "execution_count": 4,
   "id": "8cfca156-911b-489e-8d13-b672aa9fcf48",
   "metadata": {},
   "outputs": [],
   "source": [
    "electronics_data = []\n",
    "with open(\"Electronics_5.json\", \"r\") as file:\n",
    "    for line in file:\n",
    "        electronics_data.append(json.loads(line))\n",
    "\n",
    "electronics_df = pd.DataFrame(electronics_data)"
   ]
  },
  {
   "cell_type": "code",
   "execution_count": 5,
   "id": "37f503c7-bd0a-487d-8a24-887b60c89cc0",
   "metadata": {},
   "outputs": [],
   "source": [
    "movies_data = []\n",
    "with open(\"Movies_and_TV_5.json\", \"r\") as file:\n",
    "    for line in file:\n",
    "        movies_data.append(json.loads(line))\n",
    "        \n",
    "movies_df = pd.DataFrame(movies_data)"
   ]
  },
  {
   "cell_type": "code",
   "execution_count": 6,
   "id": "4ee5d7fa-02d0-4b23-b6ad-a7e5a9ad9db0",
   "metadata": {},
   "outputs": [],
   "source": [
    "electronics = electronics_df[['reviewText', 'overall']]\n",
    "movies = movies_df[['reviewText', 'overall']]"
   ]
  },
  {
   "cell_type": "code",
   "execution_count": 7,
   "id": "1f7a23bf-6cba-4b38-aa3a-fc18220a019c",
   "metadata": {},
   "outputs": [
    {
     "data": {
      "text/html": [
       "<div>\n",
       "<style scoped>\n",
       "    .dataframe tbody tr th:only-of-type {\n",
       "        vertical-align: middle;\n",
       "    }\n",
       "\n",
       "    .dataframe tbody tr th {\n",
       "        vertical-align: top;\n",
       "    }\n",
       "\n",
       "    .dataframe thead th {\n",
       "        text-align: right;\n",
       "    }\n",
       "</style>\n",
       "<table border=\"1\" class=\"dataframe\">\n",
       "  <thead>\n",
       "    <tr style=\"text-align: right;\">\n",
       "      <th></th>\n",
       "      <th>reviewText</th>\n",
       "      <th>overall</th>\n",
       "    </tr>\n",
       "  </thead>\n",
       "  <tbody>\n",
       "    <tr>\n",
       "      <th>0</th>\n",
       "      <td>This is the best novel I have read in 2 or 3 y...</td>\n",
       "      <td>5.0</td>\n",
       "    </tr>\n",
       "    <tr>\n",
       "      <th>1</th>\n",
       "      <td>Pages and pages of introspection, in the style...</td>\n",
       "      <td>3.0</td>\n",
       "    </tr>\n",
       "    <tr>\n",
       "      <th>2</th>\n",
       "      <td>This is the kind of novel to read when you hav...</td>\n",
       "      <td>5.0</td>\n",
       "    </tr>\n",
       "    <tr>\n",
       "      <th>3</th>\n",
       "      <td>What gorgeous language! What an incredible wri...</td>\n",
       "      <td>5.0</td>\n",
       "    </tr>\n",
       "    <tr>\n",
       "      <th>4</th>\n",
       "      <td>I was taken in by reviews that compared this b...</td>\n",
       "      <td>3.0</td>\n",
       "    </tr>\n",
       "    <tr>\n",
       "      <th>...</th>\n",
       "      <td>...</td>\n",
       "      <td>...</td>\n",
       "    </tr>\n",
       "    <tr>\n",
       "      <th>6739585</th>\n",
       "      <td>These seem like quality USB cables, time will ...</td>\n",
       "      <td>4.0</td>\n",
       "    </tr>\n",
       "    <tr>\n",
       "      <th>6739586</th>\n",
       "      <td>Works great, love the longer cord. As with any...</td>\n",
       "      <td>4.0</td>\n",
       "    </tr>\n",
       "    <tr>\n",
       "      <th>6739587</th>\n",
       "      <td>Ok here is an odd thing that happened to me, I...</td>\n",
       "      <td>5.0</td>\n",
       "    </tr>\n",
       "    <tr>\n",
       "      <th>6739588</th>\n",
       "      <td>Works well.</td>\n",
       "      <td>5.0</td>\n",
       "    </tr>\n",
       "    <tr>\n",
       "      <th>6739589</th>\n",
       "      <td>I have it plugged into a usb extension on my g...</td>\n",
       "      <td>5.0</td>\n",
       "    </tr>\n",
       "  </tbody>\n",
       "</table>\n",
       "<p>6739590 rows × 2 columns</p>\n",
       "</div>"
      ],
      "text/plain": [
       "                                                reviewText  overall\n",
       "0        This is the best novel I have read in 2 or 3 y...      5.0\n",
       "1        Pages and pages of introspection, in the style...      3.0\n",
       "2        This is the kind of novel to read when you hav...      5.0\n",
       "3        What gorgeous language! What an incredible wri...      5.0\n",
       "4        I was taken in by reviews that compared this b...      3.0\n",
       "...                                                    ...      ...\n",
       "6739585  These seem like quality USB cables, time will ...      4.0\n",
       "6739586  Works great, love the longer cord. As with any...      4.0\n",
       "6739587  Ok here is an odd thing that happened to me, I...      5.0\n",
       "6739588                                        Works well.      5.0\n",
       "6739589  I have it plugged into a usb extension on my g...      5.0\n",
       "\n",
       "[6739590 rows x 2 columns]"
      ]
     },
     "execution_count": 7,
     "metadata": {},
     "output_type": "execute_result"
    }
   ],
   "source": [
    "electronics"
   ]
  },
  {
   "cell_type": "code",
   "execution_count": 8,
   "id": "1ece2732-eeff-4d82-9efc-c3e80bcfd5e7",
   "metadata": {},
   "outputs": [
    {
     "data": {
      "text/html": [
       "<div>\n",
       "<style scoped>\n",
       "    .dataframe tbody tr th:only-of-type {\n",
       "        vertical-align: middle;\n",
       "    }\n",
       "\n",
       "    .dataframe tbody tr th {\n",
       "        vertical-align: top;\n",
       "    }\n",
       "\n",
       "    .dataframe thead th {\n",
       "        text-align: right;\n",
       "    }\n",
       "</style>\n",
       "<table border=\"1\" class=\"dataframe\">\n",
       "  <thead>\n",
       "    <tr style=\"text-align: right;\">\n",
       "      <th></th>\n",
       "      <th>reviewText</th>\n",
       "      <th>overall</th>\n",
       "    </tr>\n",
       "  </thead>\n",
       "  <tbody>\n",
       "    <tr>\n",
       "      <th>0</th>\n",
       "      <td>So sorry I didn't purchase this years ago when...</td>\n",
       "      <td>5.0</td>\n",
       "    </tr>\n",
       "    <tr>\n",
       "      <th>1</th>\n",
       "      <td>Believe me when I tell you that you will recei...</td>\n",
       "      <td>5.0</td>\n",
       "    </tr>\n",
       "    <tr>\n",
       "      <th>2</th>\n",
       "      <td>I have seen X live many times, both in the ear...</td>\n",
       "      <td>5.0</td>\n",
       "    </tr>\n",
       "    <tr>\n",
       "      <th>3</th>\n",
       "      <td>I was so excited for this!  Finally, a live co...</td>\n",
       "      <td>5.0</td>\n",
       "    </tr>\n",
       "    <tr>\n",
       "      <th>4</th>\n",
       "      <td>X is one of the best punk bands ever. I don't ...</td>\n",
       "      <td>5.0</td>\n",
       "    </tr>\n",
       "    <tr>\n",
       "      <th>...</th>\n",
       "      <td>...</td>\n",
       "      <td>...</td>\n",
       "    </tr>\n",
       "    <tr>\n",
       "      <th>3410014</th>\n",
       "      <td>The singing parts are very good as expected fr...</td>\n",
       "      <td>4.0</td>\n",
       "    </tr>\n",
       "    <tr>\n",
       "      <th>3410015</th>\n",
       "      <td>This recording of the 2015 production by the M...</td>\n",
       "      <td>5.0</td>\n",
       "    </tr>\n",
       "    <tr>\n",
       "      <th>3410016</th>\n",
       "      <td>I do not wish to write a review about this rel...</td>\n",
       "      <td>4.0</td>\n",
       "    </tr>\n",
       "    <tr>\n",
       "      <th>3410017</th>\n",
       "      <td>It was a gift.</td>\n",
       "      <td>5.0</td>\n",
       "    </tr>\n",
       "    <tr>\n",
       "      <th>3410018</th>\n",
       "      <td>This Otello originates from the Salzburg Festi...</td>\n",
       "      <td>4.0</td>\n",
       "    </tr>\n",
       "  </tbody>\n",
       "</table>\n",
       "<p>3410019 rows × 2 columns</p>\n",
       "</div>"
      ],
      "text/plain": [
       "                                                reviewText  overall\n",
       "0        So sorry I didn't purchase this years ago when...      5.0\n",
       "1        Believe me when I tell you that you will recei...      5.0\n",
       "2        I have seen X live many times, both in the ear...      5.0\n",
       "3        I was so excited for this!  Finally, a live co...      5.0\n",
       "4        X is one of the best punk bands ever. I don't ...      5.0\n",
       "...                                                    ...      ...\n",
       "3410014  The singing parts are very good as expected fr...      4.0\n",
       "3410015  This recording of the 2015 production by the M...      5.0\n",
       "3410016  I do not wish to write a review about this rel...      4.0\n",
       "3410017                                     It was a gift.      5.0\n",
       "3410018  This Otello originates from the Salzburg Festi...      4.0\n",
       "\n",
       "[3410019 rows x 2 columns]"
      ]
     },
     "execution_count": 8,
     "metadata": {},
     "output_type": "execute_result"
    }
   ],
   "source": [
    "movies"
   ]
  },
  {
   "cell_type": "markdown",
   "id": "a49ed0e5-39e8-4c33-90b2-3438872c0a80",
   "metadata": {},
   "source": [
    "## Data Cleaning"
   ]
  },
  {
   "cell_type": "markdown",
   "id": "bb409728-3da9-40e2-977e-699d47b8a664",
   "metadata": {},
   "source": [
    "#### Check for Missing Values"
   ]
  },
  {
   "cell_type": "code",
   "execution_count": 9,
   "id": "4003691f-0b45-490c-9609-80e931837007",
   "metadata": {},
   "outputs": [
    {
     "data": {
      "text/plain": [
       "reviewText    1353\n",
       "overall          0\n",
       "dtype: int64"
      ]
     },
     "execution_count": 9,
     "metadata": {},
     "output_type": "execute_result"
    }
   ],
   "source": [
    "electronics.isna().sum()"
   ]
  },
  {
   "cell_type": "code",
   "execution_count": 10,
   "id": "27b35fc0-31f1-4d5f-94ee-ce5a94c383c1",
   "metadata": {},
   "outputs": [
    {
     "data": {
      "text/plain": [
       "reviewText    1581\n",
       "overall          0\n",
       "dtype: int64"
      ]
     },
     "execution_count": 10,
     "metadata": {},
     "output_type": "execute_result"
    }
   ],
   "source": [
    "movies.isna().sum()"
   ]
  },
  {
   "cell_type": "code",
   "execution_count": 11,
   "id": "aa4f0d64-fb3d-45ba-95ee-a965e939cbef",
   "metadata": {},
   "outputs": [
    {
     "data": {
      "text/plain": [
       "reviewText    0\n",
       "overall       0\n",
       "dtype: int64"
      ]
     },
     "execution_count": 11,
     "metadata": {},
     "output_type": "execute_result"
    }
   ],
   "source": [
    "electronics.dropna(inplace=True)\n",
    "electronics.isna().sum()"
   ]
  },
  {
   "cell_type": "code",
   "execution_count": 12,
   "id": "8e2bb84e-03ea-49fc-8fd1-46204440d0c5",
   "metadata": {},
   "outputs": [
    {
     "data": {
      "text/plain": [
       "reviewText    0\n",
       "overall       0\n",
       "dtype: int64"
      ]
     },
     "execution_count": 12,
     "metadata": {},
     "output_type": "execute_result"
    }
   ],
   "source": [
    "movies.dropna(inplace=True)\n",
    "movies.isna().sum()"
   ]
  },
  {
   "cell_type": "markdown",
   "id": "e48587bf-7ffb-4396-a6bb-8342a5e76ab5",
   "metadata": {},
   "source": [
    "#### Check for Duplicates"
   ]
  },
  {
   "cell_type": "code",
   "execution_count": 13,
   "id": "6eaecf36-9b31-4287-8e1b-861559962ba2",
   "metadata": {},
   "outputs": [
    {
     "data": {
      "text/plain": [
       "1108746"
      ]
     },
     "execution_count": 13,
     "metadata": {},
     "output_type": "execute_result"
    }
   ],
   "source": [
    "electronics.duplicated().sum()"
   ]
  },
  {
   "cell_type": "code",
   "execution_count": 14,
   "id": "76dd3ece-f1d8-4797-be0d-3b1a9480e69c",
   "metadata": {},
   "outputs": [
    {
     "data": {
      "text/plain": [
       "743491"
      ]
     },
     "execution_count": 14,
     "metadata": {},
     "output_type": "execute_result"
    }
   ],
   "source": [
    "movies.duplicated().sum()"
   ]
  },
  {
   "cell_type": "code",
   "execution_count": 15,
   "id": "a5609b66-5cdb-4a70-9ca7-c855f6baa5aa",
   "metadata": {},
   "outputs": [],
   "source": [
    "electronics.drop_duplicates(inplace=True)\n",
    "movies.drop_duplicates(inplace=True)"
   ]
  },
  {
   "cell_type": "code",
   "execution_count": 16,
   "id": "abae214e-35f8-40f2-87c3-b4f65ac969a0",
   "metadata": {},
   "outputs": [
    {
     "data": {
      "text/plain": [
       "(5629491, 2)"
      ]
     },
     "execution_count": 16,
     "metadata": {},
     "output_type": "execute_result"
    }
   ],
   "source": [
    "electronics.shape"
   ]
  },
  {
   "cell_type": "code",
   "execution_count": 17,
   "id": "b769a9a7-a3f1-401c-9e97-5caddfa87ade",
   "metadata": {},
   "outputs": [
    {
     "data": {
      "text/plain": [
       "(2664947, 2)"
      ]
     },
     "execution_count": 17,
     "metadata": {},
     "output_type": "execute_result"
    }
   ],
   "source": [
    "movies.shape"
   ]
  },
  {
   "cell_type": "markdown",
   "id": "77443517-b652-4d19-a961-1f1a94d3a608",
   "metadata": {},
   "source": [
    "#### Remove rows with short reviews (less than 5 characters)"
   ]
  },
  {
   "cell_type": "code",
   "execution_count": 18,
   "id": "e8bc856d-f7d2-46dd-b6a6-dfd00eb03af4",
   "metadata": {},
   "outputs": [
    {
     "data": {
      "text/plain": [
       "(2035, 2)"
      ]
     },
     "execution_count": 18,
     "metadata": {},
     "output_type": "execute_result"
    }
   ],
   "source": [
    "electronics[electronics['reviewText'].str.len() < 5].shape"
   ]
  },
  {
   "cell_type": "code",
   "execution_count": 19,
   "id": "eed8c3ed-364d-4ffd-a592-8abfef091de3",
   "metadata": {},
   "outputs": [
    {
     "data": {
      "text/plain": [
       "(2228, 2)"
      ]
     },
     "execution_count": 19,
     "metadata": {},
     "output_type": "execute_result"
    }
   ],
   "source": [
    "movies[movies['reviewText'].str.len() < 5].shape"
   ]
  },
  {
   "cell_type": "code",
   "execution_count": 20,
   "id": "cddcb7d2-ddb0-4c9c-86f9-bfd3628897e5",
   "metadata": {},
   "outputs": [],
   "source": [
    "# only retain rows with more than 5 characters\n",
    "electronics = electronics[electronics['reviewText'].str.len() > 5]\n",
    "movies = movies[movies['reviewText'].str.len() > 5]"
   ]
  },
  {
   "cell_type": "code",
   "execution_count": 21,
   "id": "cd4d7196-42d8-40ad-b372-663b523ee90a",
   "metadata": {},
   "outputs": [
    {
     "data": {
      "text/plain": [
       "(5625973, 2)"
      ]
     },
     "execution_count": 21,
     "metadata": {},
     "output_type": "execute_result"
    }
   ],
   "source": [
    "electronics.shape"
   ]
  },
  {
   "cell_type": "code",
   "execution_count": 22,
   "id": "fe4bdc85-6993-4d35-be58-6e542b19ce06",
   "metadata": {},
   "outputs": [
    {
     "data": {
      "text/plain": [
       "(2661230, 2)"
      ]
     },
     "execution_count": 22,
     "metadata": {},
     "output_type": "execute_result"
    }
   ],
   "source": [
    "movies.shape"
   ]
  },
  {
   "cell_type": "markdown",
   "id": "ed4440c9-47ef-47aa-ad50-6f2a7e00e7ef",
   "metadata": {},
   "source": [
    "## Pre-processing"
   ]
  },
  {
   "cell_type": "markdown",
   "id": "e17fe010-cce2-4400-bc0c-4bd8d2e827e6",
   "metadata": {},
   "source": [
    "#### Convert ratings to sentiment labels"
   ]
  },
  {
   "cell_type": "markdown",
   "id": "dd09cfb3-e56f-421e-8a6e-9e44c3345aa3",
   "metadata": {},
   "source": [
    "- 1 - 2 stars: negative sentiment (label 0)\n",
    "- 3 stars: neutral sentiment (label 1)\n",
    "- 4 - 5 stars: positive sentiment (label 2)"
   ]
  },
  {
   "cell_type": "code",
   "execution_count": 23,
   "id": "45d47e77-ac36-4d53-9e0e-35276995939b",
   "metadata": {},
   "outputs": [],
   "source": [
    "electronics['sentiment'] = electronics['overall'].apply(lambda x: 0 if x <= 2 else (1 if x == 3 else 2))\n",
    "movies['sentiment'] = movies['overall'].apply(lambda x: 0 if x <= 2 else (1 if x == 3 else 2))"
   ]
  },
  {
   "cell_type": "code",
   "execution_count": 24,
   "id": "8e19277e-3d54-4a11-9ae9-32637be224b0",
   "metadata": {},
   "outputs": [],
   "source": [
    "electronics.drop(columns='overall', inplace=True)\n",
    "movies.drop(columns='overall', inplace=True)"
   ]
  },
  {
   "cell_type": "code",
   "execution_count": 25,
   "id": "c391c423-5544-4284-95e6-85691c9c364d",
   "metadata": {},
   "outputs": [
    {
     "data": {
      "text/html": [
       "<div>\n",
       "<style scoped>\n",
       "    .dataframe tbody tr th:only-of-type {\n",
       "        vertical-align: middle;\n",
       "    }\n",
       "\n",
       "    .dataframe tbody tr th {\n",
       "        vertical-align: top;\n",
       "    }\n",
       "\n",
       "    .dataframe thead th {\n",
       "        text-align: right;\n",
       "    }\n",
       "</style>\n",
       "<table border=\"1\" class=\"dataframe\">\n",
       "  <thead>\n",
       "    <tr style=\"text-align: right;\">\n",
       "      <th></th>\n",
       "      <th>reviewText</th>\n",
       "      <th>sentiment</th>\n",
       "    </tr>\n",
       "  </thead>\n",
       "  <tbody>\n",
       "    <tr>\n",
       "      <th>0</th>\n",
       "      <td>This is the best novel I have read in 2 or 3 y...</td>\n",
       "      <td>2</td>\n",
       "    </tr>\n",
       "    <tr>\n",
       "      <th>1</th>\n",
       "      <td>Pages and pages of introspection, in the style...</td>\n",
       "      <td>1</td>\n",
       "    </tr>\n",
       "    <tr>\n",
       "      <th>2</th>\n",
       "      <td>This is the kind of novel to read when you hav...</td>\n",
       "      <td>2</td>\n",
       "    </tr>\n",
       "    <tr>\n",
       "      <th>3</th>\n",
       "      <td>What gorgeous language! What an incredible wri...</td>\n",
       "      <td>2</td>\n",
       "    </tr>\n",
       "    <tr>\n",
       "      <th>4</th>\n",
       "      <td>I was taken in by reviews that compared this b...</td>\n",
       "      <td>1</td>\n",
       "    </tr>\n",
       "    <tr>\n",
       "      <th>...</th>\n",
       "      <td>...</td>\n",
       "      <td>...</td>\n",
       "    </tr>\n",
       "    <tr>\n",
       "      <th>6739584</th>\n",
       "      <td>not holding up over time :(</td>\n",
       "      <td>1</td>\n",
       "    </tr>\n",
       "    <tr>\n",
       "      <th>6739585</th>\n",
       "      <td>These seem like quality USB cables, time will ...</td>\n",
       "      <td>2</td>\n",
       "    </tr>\n",
       "    <tr>\n",
       "      <th>6739586</th>\n",
       "      <td>Works great, love the longer cord. As with any...</td>\n",
       "      <td>2</td>\n",
       "    </tr>\n",
       "    <tr>\n",
       "      <th>6739587</th>\n",
       "      <td>Ok here is an odd thing that happened to me, I...</td>\n",
       "      <td>2</td>\n",
       "    </tr>\n",
       "    <tr>\n",
       "      <th>6739589</th>\n",
       "      <td>I have it plugged into a usb extension on my g...</td>\n",
       "      <td>2</td>\n",
       "    </tr>\n",
       "  </tbody>\n",
       "</table>\n",
       "<p>5625973 rows × 2 columns</p>\n",
       "</div>"
      ],
      "text/plain": [
       "                                                reviewText  sentiment\n",
       "0        This is the best novel I have read in 2 or 3 y...          2\n",
       "1        Pages and pages of introspection, in the style...          1\n",
       "2        This is the kind of novel to read when you hav...          2\n",
       "3        What gorgeous language! What an incredible wri...          2\n",
       "4        I was taken in by reviews that compared this b...          1\n",
       "...                                                    ...        ...\n",
       "6739584                        not holding up over time :(          1\n",
       "6739585  These seem like quality USB cables, time will ...          2\n",
       "6739586  Works great, love the longer cord. As with any...          2\n",
       "6739587  Ok here is an odd thing that happened to me, I...          2\n",
       "6739589  I have it plugged into a usb extension on my g...          2\n",
       "\n",
       "[5625973 rows x 2 columns]"
      ]
     },
     "execution_count": 25,
     "metadata": {},
     "output_type": "execute_result"
    }
   ],
   "source": [
    "electronics"
   ]
  },
  {
   "cell_type": "code",
   "execution_count": 26,
   "id": "74b70a75-362f-4be0-ab45-9b21be322eab",
   "metadata": {},
   "outputs": [
    {
     "data": {
      "text/html": [
       "<div>\n",
       "<style scoped>\n",
       "    .dataframe tbody tr th:only-of-type {\n",
       "        vertical-align: middle;\n",
       "    }\n",
       "\n",
       "    .dataframe tbody tr th {\n",
       "        vertical-align: top;\n",
       "    }\n",
       "\n",
       "    .dataframe thead th {\n",
       "        text-align: right;\n",
       "    }\n",
       "</style>\n",
       "<table border=\"1\" class=\"dataframe\">\n",
       "  <thead>\n",
       "    <tr style=\"text-align: right;\">\n",
       "      <th></th>\n",
       "      <th>reviewText</th>\n",
       "      <th>sentiment</th>\n",
       "    </tr>\n",
       "  </thead>\n",
       "  <tbody>\n",
       "    <tr>\n",
       "      <th>0</th>\n",
       "      <td>So sorry I didn't purchase this years ago when...</td>\n",
       "      <td>2</td>\n",
       "    </tr>\n",
       "    <tr>\n",
       "      <th>1</th>\n",
       "      <td>Believe me when I tell you that you will recei...</td>\n",
       "      <td>2</td>\n",
       "    </tr>\n",
       "    <tr>\n",
       "      <th>2</th>\n",
       "      <td>I have seen X live many times, both in the ear...</td>\n",
       "      <td>2</td>\n",
       "    </tr>\n",
       "    <tr>\n",
       "      <th>3</th>\n",
       "      <td>I was so excited for this!  Finally, a live co...</td>\n",
       "      <td>2</td>\n",
       "    </tr>\n",
       "    <tr>\n",
       "      <th>4</th>\n",
       "      <td>X is one of the best punk bands ever. I don't ...</td>\n",
       "      <td>2</td>\n",
       "    </tr>\n",
       "    <tr>\n",
       "      <th>...</th>\n",
       "      <td>...</td>\n",
       "      <td>...</td>\n",
       "    </tr>\n",
       "    <tr>\n",
       "      <th>3410012</th>\n",
       "      <td>No problem whatsoever</td>\n",
       "      <td>2</td>\n",
       "    </tr>\n",
       "    <tr>\n",
       "      <th>3410013</th>\n",
       "      <td>This is a very, very good production of Verdi'...</td>\n",
       "      <td>2</td>\n",
       "    </tr>\n",
       "    <tr>\n",
       "      <th>3410014</th>\n",
       "      <td>The singing parts are very good as expected fr...</td>\n",
       "      <td>2</td>\n",
       "    </tr>\n",
       "    <tr>\n",
       "      <th>3410015</th>\n",
       "      <td>This recording of the 2015 production by the M...</td>\n",
       "      <td>2</td>\n",
       "    </tr>\n",
       "    <tr>\n",
       "      <th>3410016</th>\n",
       "      <td>I do not wish to write a review about this rel...</td>\n",
       "      <td>2</td>\n",
       "    </tr>\n",
       "  </tbody>\n",
       "</table>\n",
       "<p>2661230 rows × 2 columns</p>\n",
       "</div>"
      ],
      "text/plain": [
       "                                                reviewText  sentiment\n",
       "0        So sorry I didn't purchase this years ago when...          2\n",
       "1        Believe me when I tell you that you will recei...          2\n",
       "2        I have seen X live many times, both in the ear...          2\n",
       "3        I was so excited for this!  Finally, a live co...          2\n",
       "4        X is one of the best punk bands ever. I don't ...          2\n",
       "...                                                    ...        ...\n",
       "3410012                              No problem whatsoever          2\n",
       "3410013  This is a very, very good production of Verdi'...          2\n",
       "3410014  The singing parts are very good as expected fr...          2\n",
       "3410015  This recording of the 2015 production by the M...          2\n",
       "3410016  I do not wish to write a review about this rel...          2\n",
       "\n",
       "[2661230 rows x 2 columns]"
      ]
     },
     "execution_count": 26,
     "metadata": {},
     "output_type": "execute_result"
    }
   ],
   "source": [
    "movies"
   ]
  },
  {
   "cell_type": "markdown",
   "id": "2e3d5a02-9756-4054-997e-c77fbf2968a6",
   "metadata": {},
   "source": [
    "#### Check for Class Imbalance"
   ]
  },
  {
   "cell_type": "code",
   "execution_count": 27,
   "id": "559b131c-3136-43fb-ab55-257e018de49c",
   "metadata": {},
   "outputs": [],
   "source": [
    "x = electronics['sentiment'].value_counts().index.to_list()\n",
    "y = electronics['sentiment'].value_counts().to_numpy()"
   ]
  },
  {
   "cell_type": "code",
   "execution_count": 28,
   "id": "22c47f60-70b8-455c-a9ba-0dbded7a8fd8",
   "metadata": {},
   "outputs": [
    {
     "data": {
      "text/plain": [
       "Text(10.38827160493827, 0.5, '%')"
      ]
     },
     "execution_count": 28,
     "metadata": {},
     "output_type": "execute_result"
    },
    {
     "data": {
      "image/png": "[encoded data removed]",
      "text/plain": [
       "<Figure size 511.111x500 with 1 Axes>"
      ]
     },
     "metadata": {},
     "output_type": "display_data"
    }
   ],
   "source": [
    "y = y / sum(y) * 100 # convert counts to percentages\n",
    "\n",
    "sns.catplot(x=x, y=y, kind='bar')\n",
    "plt.title('Electronics')\n",
    "plt.xlabel('class label')\n",
    "plt.ylabel('%')"
   ]
  },
  {
   "cell_type": "code",
   "execution_count": 29,
   "id": "571305dd-4a93-4b03-af79-6c2130a64631",
   "metadata": {},
   "outputs": [],
   "source": [
    "x = movies['sentiment'].value_counts().index.to_list()\n",
    "y = movies['sentiment'].value_counts().to_numpy()"
   ]
  },
  {
   "cell_type": "code",
   "execution_count": 30,
   "id": "dfddd2de-f365-48a5-8709-847b41a91841",
   "metadata": {},
   "outputs": [
    {
     "data": {
      "text/plain": [
       "Text(10.38827160493827, 0.5, '%')"
      ]
     },
     "execution_count": 30,
     "metadata": {},
     "output_type": "execute_result"
    },
    {
     "data": {
      "image/png": "[encoded data removed]",
      "text/plain": [
       "<Figure size 511.111x500 with 1 Axes>"
      ]
     },
     "metadata": {},
     "output_type": "display_data"
    }
   ],
   "source": [
    "y = y / sum(y) * 100 # convert counts to percentages\n",
    "\n",
    "sns.catplot(x=x, y=y, kind='bar')\n",
    "plt.title('Movies')\n",
    "plt.xlabel('class label')\n",
    "plt.ylabel('%')"
   ]
  },
  {
   "cell_type": "markdown",
   "id": "10df7066-ea43-45f0-b5a1-5459ac21ab51",
   "metadata": {},
   "source": [
    "***In both datasets, the positive class is overrepresented compared to the other classes.***"
   ]
  },
  {
   "cell_type": "markdown",
   "id": "e43571c8-c7a9-4fc7-9569-5013fe966e35",
   "metadata": {},
   "source": [
    "## Data Splitting"
   ]
  },
  {
   "cell_type": "markdown",
   "id": "6f96e83f-51c2-484a-b34b-5b2b7a62d8ed",
   "metadata": {},
   "source": [
    "The Electronics Dataset is the source domain. \n",
    "We'll split into 80% for training and 20% for validation.\n",
    "\n",
    "The movies dataset will be reserved for evaluating cross-domain performance (testing).\n",
    "\n",
    "- Training Set: Used for model learning.\n",
    "- Validation Set: Ensures the model generalizes well during training.\n",
    "- Test Set: Evaluates performance on unseen, cross-domain data (Movies)."
   ]
  },
  {
   "cell_type": "code",
   "execution_count": 31,
   "id": "117e00eb-146d-4807-9d64-9922ceb84fd6",
   "metadata": {},
   "outputs": [],
   "source": [
    "from sklearn.model_selection import train_test_split\n",
    "\n",
    "train_electronics, val_electronics = train_test_split(\n",
    "    electronics, test_size=0.2, stratify=electronics['sentiment'], random_state=42\n",
    ")\n",
    "\n",
    "test_movies = movies"
   ]
  },
  {
   "cell_type": "code",
   "execution_count": 32,
   "id": "19577080-ad6d-4fe8-af1a-0c4357980130",
   "metadata": {},
   "outputs": [
    {
     "name": "stdout",
     "output_type": "stream",
     "text": [
      "Training set size: 4500778\n",
      "Validation set size: 1125195\n",
      "Test set size: 2661230\n"
     ]
    }
   ],
   "source": [
    "print(\"Training set size:\", len(train_electronics))\n",
    "print(\"Validation set size:\", len(val_electronics))\n",
    "print(\"Test set size:\", len(test_movies))"
   ]
  },
  {
   "cell_type": "code",
   "execution_count": 2,
   "id": "87f1685d-93dc-4fe1-928d-15a30a15c1e8",
   "metadata": {},
   "outputs": [],
   "source": [
    "# Save datasets to CSV files for easy use later.\n",
    "# train_electronics.to_csv('train_electronics.csv', index=False)\n",
    "# val_electronics.to_csv('val_electronics.csv', index=False)\n",
    "# test_movies.to_csv('test_movies.csv', index=False)"
   ]
  },
  {
   "cell_type": "code",
   "execution_count": null,
   "id": "092fa054-51be-4bad-9329-2d60369a3884",
   "metadata": {},
   "outputs": [],
   "source": []
  }
 ],
 "metadata": {
  "kernelspec": {
   "display_name": "Python 3 (ipykernel)",
   "language": "python",
   "name": "python3"
  },
  "language_info": {
   "codemirror_mode": {
    "name": "ipython",
    "version": 3
   },
   "file_extension": ".py",
   "mimetype": "text/x-python",
   "name": "python",
   "nbconvert_exporter": "python",
   "pygments_lexer": "ipython3",
   "version": "3.11.5"
  }
 },
 "nbformat": 4,
 "nbformat_minor": 5
}
